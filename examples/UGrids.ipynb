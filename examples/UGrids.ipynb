{
 "cells": [
  {
   "cell_type": "markdown",
   "id": "3c38aef9-6f45-4a37-b87c-f7963285b6e6",
   "metadata": {},
   "source": [
    "# Table of Contents\n",
    "- [Creating a UGrid](#creating_a_ugrid)\n",
    "- [Writing a UGrid out to a File](#writing_a_ugrid_out_to_a_file)\n",
    "- [Reading a UGrid in from a File](#reading_a_ugrid_in_from_a_file)\n",
    "- [Important Note on UGrid.locations](#important_note_on_ugrid_locations)\n",
    "- [More on UGrid Cells](#more_on_ugrid_cells)\n",
    "- [UGrid Operations](#ugrid_operations)"
   ]
  },
  {
   "cell_type": "markdown",
   "id": "a2c22fc9-304c-4795-8689-fcce0d3d126d",
   "metadata": {
    "tags": []
   },
   "source": [
    "<a class='anchor' id='creating_a_ugrid'></a>\n",
    "# Creating a UGrid\n",
    "Below are the imports that we will be using to work with ugrids"
   ]
  },
  {
   "cell_type": "code",
   "execution_count": 1,
   "id": "01af44f8-db5b-4efa-961d-20dceb86003f",
   "metadata": {
    "tags": []
   },
   "outputs": [],
   "source": [
    "from xms.grid.ugrid import UGrid\n",
    "from xms.grid.ugrid import ugrid_utils"
   ]
  },
  {
   "cell_type": "markdown",
   "id": "0a63449d-47fd-408b-a11c-876de917067b",
   "metadata": {},
   "source": [
    "And here are some general imports we will be using"
   ]
  },
  {
   "cell_type": "code",
   "execution_count": 2,
   "id": "bb2b8770-ddf9-4bec-a9aa-d1dd6810295c",
   "metadata": {
    "tags": []
   },
   "outputs": [],
   "source": [
    "import time"
   ]
  },
  {
   "cell_type": "markdown",
   "id": "b31f40b0-35bc-41ef-bcfb-240dd2000eee",
   "metadata": {},
   "source": [
    "<p>\n",
    "Ugrids are the basic geometry that make up a grid.  They are made up of cells which are made up of points. <br>\n",
    "Some important terminology concering UGrids are:<br>\n",
    "    - Location: The actual x,y,z coordinates of a point/vertex in the UGrid.<br>\n",
    "    - Point: The integer index of the point inside the list of locations (UGrid.locations)<br>\n",
    "    - Cell: A group of locations that make up a shape.<br>\n",
    "</p>"
   ]
  },
  {
   "cell_type": "code",
   "execution_count": 3,
   "id": "03e51646-7abd-4aa6-adf5-3c53c2245c93",
   "metadata": {
    "tags": []
   },
   "outputs": [],
   "source": [
    "locations = [(5.0, 74.0, 0.0),\n",
    "          (22.0, 74.0, 0.0),\n",
    "          (23.63, 60.57, 0.0),\n",
    "          (11.35, 55.51, 0.0),\n",
    "          (2.86, 62.19, 0.0),\n",
    "          (12.53, 66.17, 0.0)]"
   ]
  },
  {
   "cell_type": "markdown",
   "id": "109f99ab-7265-4e70-a571-e279438f84c8",
   "metadata": {},
   "source": [
    "The code above creates a list of locations. Each location in the list is a triple\n",
    "where each value in the triple corresponds to x,y,z coordinates of a point.  This ugrid is going\n",
    "to be 2D, but we could make a 3D ugrid if we wanted to."
   ]
  },
  {
   "cell_type": "code",
   "execution_count": 4,
   "id": "18ba0447-9eb9-4348-a623-7d3d88abc581",
   "metadata": {
    "tags": []
   },
   "outputs": [],
   "source": [
    "cellstream = [\n",
    "    UGrid.cell_type_enum.TRIANGLE, 3, 0, 4, 5,\n",
    "    UGrid.cell_type_enum.TRIANGLE, 3, 5, 4, 3,\n",
    "    UGrid.cell_type_enum.TRIANGLE, 3, 5, 2, 1,\n",
    "    UGrid.cell_type_enum.TRIANGLE, 3, 2, 5, 3,\n",
    "    UGrid.cell_type_enum.TRIANGLE, 3, 5, 1, 0\n",
    "]"
   ]
  },
  {
   "cell_type": "markdown",
   "id": "292e2f33-9e05-4554-baa3-ca559f04bc76",
   "metadata": {},
   "source": [
    "The code above creates a list of cells.  Each five values in the list together represent a cell.\n",
    "\n",
    "The first cell in the list is `UGrid.cell_type_enum.TRIANGLE, 3, 0, 4, 5`.\n",
    "\n",
    "The first value that describes the cell is `UGrid.cell_type_enum.TRIANGLE`, which is the type of the cell.  The cell type determines how the points in a cell relate to each other and what shape the cell will take.\n",
    "\n",
    "The next value, `3`, indicates how many points there are in the cell.  Because we put `3`, there should be three values that follow this value.\n",
    "\n",
    "The next three values `0, 4, 5` are each indicies that tell the indexes in `locations` that hold the points that make up the cell.  The following code illustrates this.\n"
   ]
  },
  {
   "cell_type": "code",
   "execution_count": 5,
   "id": "36c30c89-663b-45f9-8023-3abd62f90f2a",
   "metadata": {
    "tags": []
   },
   "outputs": [
    {
     "name": "stdout",
     "output_type": "stream",
     "text": [
      "(5.0, 74.0, 0.0) (2.86, 62.19, 0.0) (12.53, 66.17, 0.0)\n"
     ]
    }
   ],
   "source": [
    "index_point_1 = cellstream[2]\n",
    "index_point_2 = cellstream[3]\n",
    "index_point_3 = cellstream[4]\n",
    "print(locations[index_point_1], locations[index_point_2], locations[index_point_3])"
   ]
  },
  {
   "cell_type": "markdown",
   "id": "30c21542-2422-43dd-8240-e425f405aa61",
   "metadata": {},
   "source": [
    "Now that we have created the locations and cells that will make up our UGrid, we can make a Ugrid by passing\n",
    "the locations and cellstream lists to the UGrid constructor:"
   ]
  },
  {
   "cell_type": "code",
   "execution_count": 6,
   "id": "a0071320-8559-4b45-958a-252206af28ec",
   "metadata": {
    "tags": []
   },
   "outputs": [],
   "source": [
    "out_ugrid = UGrid(locations, cellstream)"
   ]
  },
  {
   "cell_type": "markdown",
   "id": "419bc53d-ca0e-48d1-b191-35f208e6da6e",
   "metadata": {},
   "source": [
    "There are many operations that can be performed on a UGrid.  Lets write out our UGrid to a file so we can import it into GMS and see what it looks like.\n",
    "\n",
    "<a id='writing_a_ugrid_out_to_a_file'></a>\n",
    "\n",
    "# Writing a UGrid out to a File"
   ]
  },
  {
   "cell_type": "code",
   "execution_count": 7,
   "id": "ec7a4aed-30c9-4175-96c0-5114ab8358eb",
   "metadata": {
    "tags": []
   },
   "outputs": [],
   "source": [
    "out_file_name = \"output_files/test.xmugrid\"\n",
    "ugrid_utils.write_ugrid_to_ascii_file(out_ugrid, out_file_name)"
   ]
  },
  {
   "cell_type": "markdown",
   "id": "a3cc0e20-16cf-4d5b-adfb-7045dda52f71",
   "metadata": {},
   "source": [
    "When we take the .xmugrid file that we just created and import it into GMS we get this:"
   ]
  },
  {
   "cell_type": "markdown",
   "id": "0733e318-bfe6-41e7-946f-9da44c030b9c",
   "metadata": {
    "tags": []
   },
   "source": [
    "![The ugrid generated by our code imported into GMS](images/ugrid.png)"
   ]
  },
  {
   "cell_type": "markdown",
   "id": "d5e6ec22-bb04-4827-a335-5fc61d655c40",
   "metadata": {},
   "source": [
    "<a id=\"reading_a_ugrid_in_from_a_file\"></a>\n",
    "# Reading a UGrid in from a File\n",
    "\n",
    "Just as we wrote out the UGrid to a file, we can read in a UGrid from a file."
   ]
  },
  {
   "cell_type": "code",
   "execution_count": 8,
   "id": "7efa8ada-cd07-4dcb-9c29-495ad3a1fc26",
   "metadata": {
    "tags": []
   },
   "outputs": [
    {
     "name": "stdout",
     "output_type": "stream",
     "text": [
      "out_ugrid: <UGrid - Number of Locations: 6, Number of Cells: 5, Extents: ((2.86, 55.51, 0.0), (23.63, 74.0, 0.0)), Modified: True>\n",
      "in_ugrid: <UGrid - Number of Locations: 6, Number of Cells: 5, Extents: ((2.86, 55.51, 0.0), (23.63, 74.0, 0.0)), Modified: True>\n"
     ]
    }
   ],
   "source": [
    "in_ugrid = ugrid_utils.read_ugrid_from_ascii_file(out_file_name)\n",
    "print(f'out_ugrid: {out_ugrid}')\n",
    "print(f'in_ugrid: {in_ugrid}')"
   ]
  },
  {
   "cell_type": "markdown",
   "id": "b2d7a63c-b74d-4977-8f5c-58bb13341ff4",
   "metadata": {},
   "source": [
    "<a id=\"important_note_on_ugrid_locations\"></a>\n",
    "# Important Note on UGrid.locations\n",
    "The UGrid `in_ugrid` that we read in has the same data as the UGrid `out_ugrid` that we created.\n",
    "We can get at that data, but there is an important note on getting UGrid.locations.  Each time that\n",
    "you call the UGrid.locations property, a new array is created and returned with a copy of the locations data."
   ]
  },
  {
   "cell_type": "code",
   "execution_count": 9,
   "id": "651764ad-51f0-434a-980a-a750cf16f383",
   "metadata": {
    "tags": []
   },
   "outputs": [
    {
     "data": {
      "text/plain": [
       "array([[ 5.  , 74.  ,  0.  ],\n",
       "       [22.  , 74.  ,  0.  ],\n",
       "       [23.63, 60.57,  0.  ],\n",
       "       [11.35, 55.51,  0.  ],\n",
       "       [ 2.86, 62.19,  0.  ],\n",
       "       [12.53, 66.17,  0.  ]])"
      ]
     },
     "execution_count": 9,
     "metadata": {},
     "output_type": "execute_result"
    }
   ],
   "source": [
    "in_ugrid.locations"
   ]
  },
  {
   "cell_type": "markdown",
   "id": "0bbf71fb-d32a-48bd-b51d-0e678e0c1864",
   "metadata": {},
   "source": [
    "When there are a lot of cells in the UGrid this can be expensive.  If we call to it multiple times watch how much time it takes."
   ]
  },
  {
   "cell_type": "code",
   "execution_count": 10,
   "id": "50e84ac9-7e97-4fe1-bff4-d3001f1859d0",
   "metadata": {
    "tags": []
   },
   "outputs": [],
   "source": [
    "def get_time():\n",
    "    return time.perf_counter_ns()\n",
    "\n",
    "_iterations = 100000"
   ]
  },
  {
   "cell_type": "code",
   "execution_count": 11,
   "id": "d35090c3-d74b-4d24-900a-9c99e0c10251",
   "metadata": {
    "tags": []
   },
   "outputs": [],
   "source": [
    "# Calling UGrid.locations each time\n",
    "time_start = get_time()\n",
    "\n",
    "for i in range(_iterations):\n",
    "    _locations = in_ugrid.locations\n",
    "    for cell in _locations:\n",
    "        cell\n",
    "\n",
    "time_end = get_time()\n",
    "\n",
    "time_calling_each_time = time_end - time_start"
   ]
  },
  {
   "cell_type": "code",
   "execution_count": 12,
   "id": "d10cf979-3e2b-4cda-a999-cb06adb4c427",
   "metadata": {
    "tags": []
   },
   "outputs": [],
   "source": [
    "# Calling UGrid.locations once\n",
    "time_start = get_time()\n",
    "\n",
    "_locations = in_ugrid.locations\n",
    "\n",
    "for i in range(_iterations):\n",
    "    for cell in _locations:\n",
    "        cell\n",
    "\n",
    "time_end = get_time()\n",
    "\n",
    "time_calling_once = time_end - time_start"
   ]
  },
  {
   "cell_type": "code",
   "execution_count": 13,
   "id": "b91f906e-09c5-48d6-a605-34ba0e5eed95",
   "metadata": {
    "tags": []
   },
   "outputs": [
    {
     "name": "stdout",
     "output_type": "stream",
     "text": [
      "Calling UGrid.locations each time: 238844300\n",
      "Calling UGrid.locations once: 121057200\n",
      "Difference (calling_each_time - calling_once): 117787100\n",
      "Calling UGrid.locations each time took 1.9729871498762568 times longer in this scenario\n"
     ]
    }
   ],
   "source": [
    "print(f'Calling UGrid.locations each time: {time_calling_each_time}')\n",
    "print(f'Calling UGrid.locations once: {time_calling_once}')\n",
    "print(f'Difference (calling_each_time - calling_once): {time_calling_each_time - time_calling_once}')\n",
    "print(f'Calling UGrid.locations each time took {time_calling_each_time / time_calling_once} times longer in this scenario')"
   ]
  },
  {
   "cell_type": "markdown",
   "id": "fb3caf5f-d50c-4dd5-a44d-76fb275898d9",
   "metadata": {},
   "source": [
    "It is important to not make more calls to UGrid.locations than necessary as this can be a slow process."
   ]
  },
  {
   "cell_type": "markdown",
   "id": "cfd80e8b-fd30-4511-b8b0-2a3b76970ef4",
   "metadata": {},
   "source": [
    "<a id=\"more_on_ugrid_cells\"></a>\n",
    "# More on Ugrid Cells\n",
    "Remember that a ugrid cell is defined by a sequence of numbers, called a cell stream. A cell stream is composed of the following parts:\n",
    " - First, a numerical declaration of the shape\n",
    " - Second, the number of points\n",
    " - Third, the point indices\n",
    " \n",
    "There are many different kinds of cells available, each specific to 2D or 3D shapes.\n",
    "- Supported 2D grid cells include: triangle (5), polygon (7), pixel (8), quad (9).\n",
    "- Supported 3D grid cells include: tetrahedron (10), voxel (11), hexahedron (12), wedge (13), pyramid (14), and polyhedron (42).\n",
    "\n",
    "An example cell stream:\n",
    "```\n",
    "|- Shape declaration\n",
    "|  |- # of points\n",
    "|  |  |- Indicies\n",
    "|  |  |-----------|\n",
    "7, 5, 0, 1, 2, 3, 4\n",
    "```\n",
    "\n",
    "The cell definitions mirror VTK cell definitions which are available on page 9 of VTK File Formats for VTK version 4.2 at https://www.vtk.org/wp-content/uploads/2015/04/file-formats.pdf.\n",
    "\n",
    "For convinience, the `xmugrid_celltype_enum` was created to put human-readable names to the numerical shape declarations."
   ]
  },
  {
   "cell_type": "markdown",
   "id": "bd388b73-9c91-4326-a630-58d5f79201e5",
   "metadata": {},
   "source": [
    "### Detailed Examples of Cell Streams\n",
    "\n",
    "![Each kind of cell shape](images/Shapes.png)\n",
    "\n",
    "#### 2D\n",
    "A triangle (5) has 3 points and the points are declared in a counter-clockwise direction. A cell stream example for a triangle is: `5, 3, 0, 1, 2`.\n",
    "\n",
    "A polygon (7) does not a have a defined number of points, but the points are still declared in a counter-clockwise direction. A cell stream example for a polygon is: `7, 5, 0, 1, 2, 3, 4`.\n",
    "\n",
    "A pixel (8) has 4 orthogonially defined points. A cell stream example for a pixel is: `8, 4, 0, 1, 2, 3`.\n",
    "\n",
    "A quad (9) has 4 points declared in a counter-clockwise direction. A cell stream example for a quad is: `9, 4, 0, 1, 2, 3`.\n",
    "\n",
    "#### 3D\n",
    "A tetrahedron (10) has 4 points. A cell stream example for a tetrahedron is: `10, 4, 0, 1, 2, 3`.\n",
    "\n",
    "A voxel (11) has 8 orthogonially defined points. A cell stream example for a voxel is: `11, 8, 0, 1, 2, 3, 4, 5, 6, 7`.\n",
    "\n",
    "A hexahedron (12) has 8 points. A cell stream example for a hexahedron is: `12, 8, 0, 1, 2, 3, 4, 5, 6, 7`.\n",
    "\n",
    "A wedge (13) has 6 points. A cell stream example for a wedge is: `13, 6, 0, 1, 2, 3, 4, 5`.\n",
    "\n",
    "A pyramid (14) has 5 points. A cell stream example for a pyramid is: `14, 5, 0, 1, 2, 3, 4`.\n",
    "\n",
    "A polyhedron (42) does not a have a defined number of points. A polyhedron cell stream has the following format: The cell type, number of faces, and then repeated for each face the number of points in the face followed by the points in the face declared in a counter-clockwise direction. A cell stream example for a polyhedron is: `42, 6, 4, 10, 13, 12, 11, 4, 10, 11, 15, 16, 4, 11, 12, 16, 15, 4, 12, 13, 17, 16, 4, 13, 10, 14, 17, 4, 14, 15, 16, 17`."
   ]
  },
  {
   "cell_type": "markdown",
   "id": "c288bc48-6233-4201-8bfe-2a5e51cb94e8",
   "metadata": {},
   "source": [
    "Below is an example of a UGrid that has a combination of different cell shapes"
   ]
  },
  {
   "cell_type": "code",
   "execution_count": 14,
   "id": "aa89b1c9-8a26-40e5-a2f2-3fe4d92acdf1",
   "metadata": {
    "tags": []
   },
   "outputs": [],
   "source": [
    "pts = [\n",
    "    (0, 0, 0), (2, 0, 0), (1, 2, 0), (4, 1, 0), (3, 3, 0), (-1, 3, 0), (-2, 1, 0),\n",
    "    (0, -2, 0), (2, -2, 0)\n",
    "]\n",
    "\n",
    "cells = [\n",
    "    UGrid.cell_type_enum.TRIANGLE, 3, 0, 1, 2,\n",
    "    UGrid.cell_type_enum.QUAD, 4, 1, 3, 4, 2,\n",
    "    UGrid.cell_type_enum.QUAD, 4, 2, 5, 6, 0,\n",
    "    UGrid.cell_type_enum.QUAD, 4, 0, 7, 8, 1,\n",
    "    UGrid.cell_type_enum.TRIANGLE, 3, 1, 8, 3,\n",
    "    UGrid.cell_type_enum.TRIANGLE, 3, 2, 4, 5,\n",
    "    UGrid.cell_type_enum.TRIANGLE, 3, 0, 6, 7,\n",
    "]\n",
    "\n",
    "ugrid_multiple_cell_types = UGrid(pts,cells)"
   ]
  },
  {
   "cell_type": "markdown",
   "id": "a5f628b2-be16-4b17-acee-d51c18b5e362",
   "metadata": {},
   "source": [
    "![A UGrid made up of various cell types](images/ugrid_multiple_cell_types.png)"
   ]
  },
  {
   "cell_type": "markdown",
   "id": "5ebbc2e4-ebe4-45c8-b43a-61c857549084",
   "metadata": {},
   "source": [
    "<a id=\"ugrid_operations\"></a>\n",
    "# UGrid Operations\n",
    "\n",
    "Lets take a look at some of the operations available to UGrids.  First we'll look at operations related to locations/points.\n",
    "\n",
    "#### UGrid.point_count\n",
    "We can get the number of points with the property UGrid.point_count:"
   ]
  },
  {
   "cell_type": "code",
   "execution_count": 15,
   "id": "c93cbbeb-678a-443d-b995-ed407796c0bf",
   "metadata": {
    "tags": []
   },
   "outputs": [
    {
     "data": {
      "text/plain": [
       "6"
      ]
     },
     "execution_count": 15,
     "metadata": {},
     "output_type": "execute_result"
    }
   ],
   "source": [
    "in_ugrid.point_count"
   ]
  },
  {
   "cell_type": "markdown",
   "id": "cd8ba280-f4a1-4595-9152-9a57089d3db2",
   "metadata": {},
   "source": [
    "#### UGrid.get_point_location(index)\n",
    "We can get the actual x,y,z coordinates of a point (the point location) with the `UGrid.get_point_location(index)` method. It takes an index and returns a Tuple."
   ]
  },
  {
   "cell_type": "code",
   "execution_count": 16,
   "id": "3877089d-4da5-4302-bb69-b4eec6811695",
   "metadata": {
    "tags": []
   },
   "outputs": [
    {
     "data": {
      "text/plain": [
       "(5.0, 74.0, 0.0)"
      ]
     },
     "execution_count": 16,
     "metadata": {},
     "output_type": "execute_result"
    }
   ],
   "source": [
    "in_ugrid.get_point_location(0)"
   ]
  },
  {
   "cell_type": "markdown",
   "id": "ca85e771-5568-418c-8c2f-7c900a74022f",
   "metadata": {},
   "source": [
    "The index is 0 based and goes up to `UGrid.point_count - 1`. If you pass it an index outside that range it returns a Tuple filled with zeros:"
   ]
  },
  {
   "cell_type": "code",
   "execution_count": 17,
   "id": "90a71035-6b01-4982-9334-db3fb641b036",
   "metadata": {
    "tags": []
   },
   "outputs": [
    {
     "name": "stdout",
     "output_type": "stream",
     "text": [
      "(0.0, 0.0, 0.0)\n"
     ]
    },
    {
     "data": {
      "text/plain": [
       "(0.0, 0.0, 0.0)"
      ]
     },
     "execution_count": 17,
     "metadata": {},
     "output_type": "execute_result"
    }
   ],
   "source": [
    "print(in_ugrid.get_point_location(-1))\n",
    "in_ugrid.get_point_location(6)"
   ]
  },
  {
   "cell_type": "markdown",
   "id": "f2171b18-e92d-4ec3-b2ec-a2adac952159",
   "metadata": {},
   "source": [
    "#### UGrid.set_point_location(index, location)\n",
    "We can set the location of a point with the `UGrid.set_point_location(index, location)` method. It takes an index, a Tuple, and returns a Boolean indicating whether the method was successful or not."
   ]
  },
  {
   "cell_type": "code",
   "execution_count": 18,
   "id": "d95f7dd3-d47b-4e6a-b8c6-dab953b476d9",
   "metadata": {
    "tags": []
   },
   "outputs": [
    {
     "data": {
      "text/plain": [
       "True"
      ]
     },
     "execution_count": 18,
     "metadata": {},
     "output_type": "execute_result"
    }
   ],
   "source": [
    "result = in_ugrid.set_point_location(0,(8.0,74.0,0.0))\n",
    "result"
   ]
  },
  {
   "cell_type": "code",
   "execution_count": 19,
   "id": "1c689276-b860-4b85-98d5-0bfa1834f391",
   "metadata": {
    "tags": []
   },
   "outputs": [
    {
     "data": {
      "text/plain": [
       "False"
      ]
     },
     "execution_count": 19,
     "metadata": {},
     "output_type": "execute_result"
    }
   ],
   "source": [
    "result = in_ugrid.set_point_location(-1,(0,0,0))\n",
    "result"
   ]
  },
  {
   "cell_type": "markdown",
   "id": "b63a4b14-ef24-4952-9f74-a8081afcf504",
   "metadata": {},
   "source": [
    "#### Other Methods\n",
    "Here are two methods that are similar to the previous two methods:"
   ]
  },
  {
   "cell_type": "code",
   "execution_count": 20,
   "id": "3ca2443d-3b7d-42f7-89c8-c5439843dce0",
   "metadata": {
    "tags": []
   },
   "outputs": [
    {
     "name": "stdout",
     "output_type": "stream",
     "text": [
      "get_point_xy0(0): (8.0, 74.0, 0.0)\n",
      "get_points_locations((0,1)): [[ 8. 74.  0.]\n",
      " [22. 74.  0.]]\n"
     ]
    }
   ],
   "source": [
    "_r1 = in_ugrid.get_point_xy0(0)              # The same as get_point_location(), except the z coordinate is set to 0 in the returned Tuple\n",
    "_r2 = in_ugrid.get_points_locations((0,1))   # The same as get_point_location(), except it can be passed multiple indices and returns a list of results\n",
    "\n",
    "print(f'get_point_xy0(0): {_r1}')\n",
    "print(f'get_points_locations((0,1)): {_r2}')"
   ]
  },
  {
   "cell_type": "markdown",
   "id": "68f40576-e9ab-4b4f-b437-8f5c8883dae1",
   "metadata": {},
   "source": [
    "The extents of a grid are the minimum and maximum points on the grid for each dimension. It returns two tuples both of which hold three values. The first tuple holds the minimum for each dimension (x,y,z), and the second tuple holds the maximum for each dimension (x,y,z)"
   ]
  },
  {
   "cell_type": "code",
   "execution_count": 21,
   "id": "68409299-637a-4bf9-bb05-ebbaeb222c11",
   "metadata": {
    "tags": []
   },
   "outputs": [
    {
     "name": "stdout",
     "output_type": "stream",
     "text": [
      "Extents Minimum: (2.86, 55.51, 0.0)\n",
      "Extents Maximum: (23.63, 74.0, 0.0)\n"
     ]
    }
   ],
   "source": [
    "# get_extents()\n",
    "\n",
    "extents_min, extents_max = in_ugrid.extents\n",
    "\n",
    "print(f\"Extents Minimum: {extents_min}\")\n",
    "print(f\"Extents Maximum: {extents_max}\")"
   ]
  },
  {
   "cell_type": "markdown",
   "id": "57e2ebaa-b149-479f-9138-fcfa7b99b025",
   "metadata": {},
   "source": [
    "`get_point_adjacent_cells(point)` returns the cells that are adjacent to the given point (remember that a point is an index of a location)."
   ]
  },
  {
   "cell_type": "code",
   "execution_count": 22,
   "id": "a32ff7a1-ae5f-485d-ae5f-f59b8602a7ac",
   "metadata": {
    "tags": []
   },
   "outputs": [
    {
     "name": "stdout",
     "output_type": "stream",
     "text": [
      "Adjacent Cells: (2, 3)\n"
     ]
    }
   ],
   "source": [
    "# get_point_adjacent_cells()\n",
    "\n",
    "cell_indices = in_ugrid.get_point_adjacent_cells(2)\n",
    "\n",
    "print(f\"Adjacent Cells: {cell_indices}\")"
   ]
  },
  {
   "cell_type": "markdown",
   "id": "d043a0e5-1459-4c12-a0e3-083ad76bfacc",
   "metadata": {},
   "source": [
    "`get_points_adjacent_cells(points)` is the same as get_point_adjacent_cells(), except it takes multiple points."
   ]
  },
  {
   "cell_type": "code",
   "execution_count": 23,
   "id": "6962a631-7e9e-4726-a73b-7c4829222e1d",
   "metadata": {
    "tags": []
   },
   "outputs": [
    {
     "name": "stdout",
     "output_type": "stream",
     "text": [
      "Adjacent Cells: (4,)\n"
     ]
    }
   ],
   "source": [
    "# get_points_adjacent_cells()\n",
    "\n",
    "point_indices = [0, 1]\n",
    "cell_indices = in_ugrid.get_points_adjacent_cells(point_indices)\n",
    "\n",
    "print(f\"Adjacent Cells: {cell_indices}\")"
   ]
  },
  {
   "cell_type": "markdown",
   "id": "446637de-781f-41b3-9f1f-1e90776c4ef5",
   "metadata": {},
   "source": [
    "## Cell Methods and Properties\n",
    "Here are some methods and properties releated to cells:<br>\n",
    "\n",
    "#### UGrid.cell_count\n",
    "We can get the number of cells in the UGrid with UGrid.cell_count:"
   ]
  },
  {
   "cell_type": "code",
   "execution_count": 24,
   "id": "0701141d-d28a-4e55-a612-9462144fcdc6",
   "metadata": {
    "tags": []
   },
   "outputs": [
    {
     "data": {
      "text/plain": [
       "5"
      ]
     },
     "execution_count": 24,
     "metadata": {},
     "output_type": "execute_result"
    }
   ],
   "source": [
    "in_ugrid.cell_count"
   ]
  },
  {
   "cell_type": "markdown",
   "id": "7db75665-7689-4609-9ee7-8774ac4db89d",
   "metadata": {},
   "source": [
    "#### UGrid.get_cell_points(index)\n",
    "Gets the points (indices) for the locations in UGrid.locations that make up the cell at the given index. Each entry in the return value is an index."
   ]
  },
  {
   "cell_type": "code",
   "execution_count": 25,
   "id": "3a8e51b3-3ed2-42cf-bdb8-08682edaa849",
   "metadata": {
    "tags": []
   },
   "outputs": [
    {
     "data": {
      "text/plain": [
       "(0, 4, 5)"
      ]
     },
     "execution_count": 25,
     "metadata": {},
     "output_type": "execute_result"
    }
   ],
   "source": [
    "in_ugrid.get_cell_points(0)   # Gets the points of a cell (including polyhedron)"
   ]
  },
  {
   "cell_type": "markdown",
   "id": "f4a64f03-23be-4bf0-a4f9-361efe83827b",
   "metadata": {},
   "source": [
    "#### UGrid.get_cell_locations(index)\n",
    "Gets the actual x,y,z coordinates of the points that make up the cell at the given index"
   ]
  },
  {
   "cell_type": "code",
   "execution_count": 26,
   "id": "53b58d98-d610-4710-b507-90058ab6ac1b",
   "metadata": {
    "tags": []
   },
   "outputs": [
    {
     "data": {
      "text/plain": [
       "array([[ 8.  , 74.  ,  0.  ],\n",
       "       [ 2.86, 62.19,  0.  ],\n",
       "       [12.53, 66.17,  0.  ]])"
      ]
     },
     "execution_count": 26,
     "metadata": {},
     "output_type": "execute_result"
    }
   ],
   "source": [
    "in_ugrid.get_cell_locations(0)"
   ]
  },
  {
   "cell_type": "markdown",
   "id": "7e131750-7d7f-4a98-9ce0-a77fd1d43b7d",
   "metadata": {
    "tags": []
   },
   "source": [
    "#### UGrid.get_cell_dimension(index) \n",
    "Gets the number of dimensions of the cell at the given index"
   ]
  },
  {
   "cell_type": "code",
   "execution_count": 27,
   "id": "f8f59951-146a-47c6-b126-c81d4eb7f3bd",
   "metadata": {
    "tags": []
   },
   "outputs": [
    {
     "name": "stdout",
     "output_type": "stream",
     "text": [
      "2\n",
      "-1\n"
     ]
    }
   ],
   "source": [
    "print(f'{in_ugrid.get_cell_dimension(0)}')\n",
    "print(f'{in_ugrid.get_cell_dimension(-1)}')   # Bad input returns -1"
   ]
  },
  {
   "cell_type": "markdown",
   "id": "755b2a00-ed2a-4cbb-8fd2-5f2f2aeb4919",
   "metadata": {},
   "source": [
    "#### UGrid.get_dimension_counts()\n",
    "Gets the number of cells that belong to each dimension"
   ]
  },
  {
   "cell_type": "code",
   "execution_count": 28,
   "id": "dcf71905-0ceb-4935-ba2e-ae2a9a95bc4a",
   "metadata": {
    "tags": []
   },
   "outputs": [
    {
     "name": "stdout",
     "output_type": "stream",
     "text": [
      "Number of 0d dimensions: 0\n",
      "Number of 1d dimensions: 0\n",
      "Number of 2d dimensions: 5\n",
      "Number of 3d dimensions: 0\n"
     ]
    }
   ],
   "source": [
    "# get_dimension_counts()\n",
    "\n",
    "_0d, _1d, _2d, _3d = in_ugrid.dimension_counts\n",
    "\n",
    "print(f\"Number of 0d dimensions: {_0d}\")\n",
    "print(f\"Number of 1d dimensions: {_1d}\")\n",
    "print(f\"Number of 2d dimensions: {_2d}\")\n",
    "print(f\"Number of 3d dimensions: {_3d}\")"
   ]
  },
  {
   "cell_type": "markdown",
   "id": "8fd07c30-a6cc-4079-8e7c-a3c9180d5f28",
   "metadata": {},
   "source": [
    "#### UGrid.get_cell_type(index)\n",
    "Gets the type of the cell with the given index"
   ]
  },
  {
   "cell_type": "code",
   "execution_count": 29,
   "id": "806ad694-2542-49be-a6cb-452be2962752",
   "metadata": {
    "tags": []
   },
   "outputs": [
    {
     "name": "stdout",
     "output_type": "stream",
     "text": [
      "Cell 0 Type: ugrid_celltype_enum.TRIANGLE\n",
      "Cell 1 Type: ugrid_celltype_enum.QUAD\n"
     ]
    }
   ],
   "source": [
    "# get_cell_type()\n",
    "\n",
    "cell_type_0 = ugrid_multiple_cell_types.get_cell_type(0)\n",
    "cell_type_1 = ugrid_multiple_cell_types.get_cell_type(2)\n",
    "\n",
    "print(f\"Cell 0 Type: {cell_type_0}\")\n",
    "print(f\"Cell 1 Type: {cell_type_1}\")"
   ]
  },
  {
   "cell_type": "markdown",
   "id": "214d4828-cf1f-462f-a0e3-9ee328d74f0e",
   "metadata": {},
   "source": [
    "#### get_cell_cellstream()\n",
    "Returns a tuple holding whether the operation was succesful or not, and the cellstream requested (if successful).<br>\n",
    "The cellstream consists of a tuple that holds the type of cell, the number of points that make up the cell, and the points of the cell."
   ]
  },
  {
   "cell_type": "code",
   "execution_count": 30,
   "id": "601d40e0-23a6-4af5-b55b-36bab8552221",
   "metadata": {
    "tags": []
   },
   "outputs": [
    {
     "name": "stdout",
     "output_type": "stream",
     "text": [
      "Cellstream for cell 2: (5, 3, 5, 2, 1)\n",
      "Cellstream for cell 3: (5, 3, 2, 5, 3)\n",
      "Cellstream 99 failed as expected...\n"
     ]
    }
   ],
   "source": [
    "# get_cell_cellstream()\n",
    "\n",
    "successful_2, cellstream_2 = in_ugrid.get_cell_cellstream(2)\n",
    "successful_3, cellstream_3 = in_ugrid.get_cell_cellstream(3)\n",
    "successful_99, _ = in_ugrid.get_cell_cellstream(99)\n",
    "\n",
    "if successful_2:\n",
    "    print(f\"Cellstream for cell 2: {cellstream_2}\")\n",
    "if successful_3:\n",
    "    print(f\"Cellstream for cell 3: {cellstream_3}\")\n",
    "if not successful_99:\n",
    "    print(f\"Cellstream 99 failed as expected...\")"
   ]
  },
  {
   "cell_type": "markdown",
   "id": "c18c4f46-36f2-4dbc-ab94-94cfd99933ab",
   "metadata": {
    "tags": []
   },
   "source": [
    "#### get_cell_adjacent_cells(index)\n",
    "Returns the cells that are adjacent to the cell with the given index"
   ]
  },
  {
   "cell_type": "code",
   "execution_count": 31,
   "id": "51a6d361-7f1b-48d3-9907-4937a2203912",
   "metadata": {
    "tags": []
   },
   "outputs": [
    {
     "name": "stdout",
     "output_type": "stream",
     "text": [
      "Adjacent cells to cell 3: (2, 0, 1, 4)\n"
     ]
    }
   ],
   "source": [
    "# get_cell_adjacent_cells()\n",
    "\n",
    "adjacent_cells = in_ugrid.get_cell_adjacent_cells(3)\n",
    "\n",
    "print(f\"Adjacent cells to cell 3: {adjacent_cells}\")"
   ]
  },
  {
   "cell_type": "markdown",
   "id": "8b4fe18b-caf7-4ccc-9115-8eee6440d649",
   "metadata": {
    "tags": []
   },
   "source": [
    "## Cell Edges\n",
    "You can simply iterate over the edges of a cell with the following code:"
   ]
  },
  {
   "cell_type": "code",
   "execution_count": 32,
   "id": "82c78faf-ae97-4800-a50f-a52f42fd688a",
   "metadata": {
    "tags": []
   },
   "outputs": [
    {
     "name": "stdout",
     "output_type": "stream",
     "text": [
      "(0, 4)\n",
      "(4, 5)\n",
      "(5, 0)\n"
     ]
    }
   ],
   "source": [
    "edges = in_ugrid.get_cell_edges(0)\n",
    "\n",
    "for edge in edges:\n",
    "    print(edge)"
   ]
  },
  {
   "cell_type": "markdown",
   "id": "f0489056-1ab5-4ec5-9be3-d8e6ae13f13f",
   "metadata": {},
   "source": [
    "Each edge tuple holds the indices of the locations in UGrid.locations that make up the edge. <br>\n",
    "You can get the points of an edge with `get_cell_edge(cell_index, edge_index)`. You pass it the index of the cell, and the index of the edge in that cell of which you want the points of. The tuple returned holds the points that make up the specified edge."
   ]
  },
  {
   "cell_type": "code",
   "execution_count": 33,
   "id": "bbbaf236-bfeb-4870-acd9-17c4e31ee211",
   "metadata": {
    "tags": []
   },
   "outputs": [
    {
     "name": "stdout",
     "output_type": "stream",
     "text": [
      "Edge Start Index: 0\n",
      "Edge End Index: 5\n"
     ]
    }
   ],
   "source": [
    "#### get_cell_edge()\n",
    "\n",
    "edge_start, edge_end = in_ugrid.get_cell_edge(4, 2)\n",
    "\n",
    "print(f\"Edge Start Index: {edge_start}\")\n",
    "print(f\"Edge End Index: {edge_end}\")"
   ]
  },
  {
   "cell_type": "markdown",
   "id": "d35cc2e2-ee8b-412c-acb0-f46edc525817",
   "metadata": {},
   "source": [
    "You can get the number of edges that make up a cell with get_cell_edge_count(index)<br>"
   ]
  },
  {
   "cell_type": "code",
   "execution_count": 34,
   "id": "235d8a9c-030e-4a40-82d1-836b2d86d31b",
   "metadata": {
    "tags": []
   },
   "outputs": [
    {
     "name": "stdout",
     "output_type": "stream",
     "text": [
      "Cell edge count for cell 0: 3\n",
      "Cell edge count for cell 1: 3\n"
     ]
    }
   ],
   "source": [
    "# get_cell_edge_count()\n",
    "\n",
    "cell_edge_count_0 = in_ugrid.get_cell_edge_count(0)\n",
    "cell_edge_count_1 = in_ugrid.get_cell_edge_count(1)\n",
    "\n",
    "print(f\"Cell edge count for cell 0: {cell_edge_count_0}\")\n",
    "print(f\"Cell edge count for cell 1: {cell_edge_count_1}\")"
   ]
  },
  {
   "cell_type": "markdown",
   "id": "d7a8a3dc-ed9b-4af4-b365-6a1bb9f1adc0",
   "metadata": {},
   "source": [
    "There are useful methods that can tell you information about neighboring cells, such as `UGrid.get_edge_adjacent_cells(edge)`"
   ]
  },
  {
   "cell_type": "code",
   "execution_count": 35,
   "id": "5796a51f-9411-4b73-a8ab-b0fd9b7e808a",
   "metadata": {
    "tags": []
   },
   "outputs": [
    {
     "name": "stdout",
     "output_type": "stream",
     "text": [
      "(0,)\n",
      "(0, 1)\n"
     ]
    }
   ],
   "source": [
    "_r1 = in_ugrid.get_edge_adjacent_cells((0, 4))\n",
    "_r2 = in_ugrid.get_edge_adjacent_cells((4, 5))\n",
    "print(_r1)\n",
    "print(_r2)"
   ]
  },
  {
   "cell_type": "markdown",
   "id": "3cb12a2a-6671-4268-8b9f-ebb64f2aa2a7",
   "metadata": {},
   "source": [
    "This will return a tuple of indexes of the cells that are adjacent to the given cells. <br>"
   ]
  },
  {
   "cell_type": "markdown",
   "id": "43ada160-cdd4-42ec-ad83-e6787c96a52b",
   "metadata": {},
   "source": [
    "There are too many functions and properties of UGrids to cover here, but the ones covered should give you an idea of what kinds of operations exist."
   ]
  }
 ],
 "metadata": {
  "kernelspec": {
   "display_name": "Python 3 (ipykernel)",
   "language": "python",
   "name": "python3"
  },
  "language_info": {
   "codemirror_mode": {
    "name": "ipython",
    "version": 3
   },
   "file_extension": ".py",
   "mimetype": "text/x-python",
   "name": "python",
   "nbconvert_exporter": "python",
   "pygments_lexer": "ipython3",
   "version": "3.10.2"
  }
 },
 "nbformat": 4,
 "nbformat_minor": 5
}

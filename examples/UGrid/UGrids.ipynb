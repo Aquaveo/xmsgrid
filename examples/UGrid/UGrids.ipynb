{
 "cells": [
  {
   "cell_type": "markdown",
   "id": "a2c22fc9-304c-4795-8689-fcce0d3d126d",
   "metadata": {
    "tags": []
   },
   "source": [
    "# Creating a UGrid\n",
    "\n",
    "Below are the imports that we will be using to work with ugrids"
   ]
  },
  {
   "cell_type": "code",
   "execution_count": 1,
   "id": "01af44f8-db5b-4efa-961d-20dceb86003f",
   "metadata": {
    "tags": []
   },
   "outputs": [],
   "source": [
    "from xms.grid.ugrid import UGrid\n",
    "from xms.grid.ugrid import ugrid_utils"
   ]
  },
  {
   "cell_type": "markdown",
   "id": "0a63449d-47fd-408b-a11c-876de917067b",
   "metadata": {},
   "source": [
    "And here are some general imports we will be using"
   ]
  },
  {
   "cell_type": "code",
   "execution_count": 2,
   "id": "bb2b8770-ddf9-4bec-a9aa-d1dd6810295c",
   "metadata": {
    "tags": []
   },
   "outputs": [],
   "source": [
    "import time"
   ]
  },
  {
   "cell_type": "markdown",
   "id": "b31f40b0-35bc-41ef-bcfb-240dd2000eee",
   "metadata": {},
   "source": [
    "<p>\n",
    "Ugrids are the basic geometry that make up a grid.  They are made up of cells which are made up of points. <br>\n",
    "Some important terminology concering UGrids are:<br>\n",
    "    - Location: The actual x,y,z coordinates of a point/vertex in the UGrid.<br>\n",
    "    - Point: The integer index of the point inside the list of locations (UGrid.locations)<br>\n",
    "    - Cell: A group of locations that make up a shape.<br>\n",
    "</p>"
   ]
  },
  {
   "cell_type": "code",
   "execution_count": 3,
   "id": "03e51646-7abd-4aa6-adf5-3c53c2245c93",
   "metadata": {
    "tags": []
   },
   "outputs": [],
   "source": [
    "locations = [(5.0, 74.0, 0.0),\n",
    "          (22.0, 74.0, 0.0),\n",
    "          (23.63, 60.57, 0.0),\n",
    "          (11.35, 55.51, 0.0),\n",
    "          (2.86, 62.19, 0.0),\n",
    "          (12.53, 66.17, 0.0)]"
   ]
  },
  {
   "cell_type": "markdown",
   "id": "109f99ab-7265-4e70-a571-e279438f84c8",
   "metadata": {},
   "source": [
    "The code above creates a list of locations. Each location in the list is a triple\n",
    "where each value in the triple corresponds to x,y,z coordinates (a point).  This ugrid is going\n",
    "to be 3D, but we could make a 2D ugrid if we wanted to."
   ]
  },
  {
   "cell_type": "code",
   "execution_count": 4,
   "id": "18ba0447-9eb9-4348-a623-7d3d88abc581",
   "metadata": {
    "tags": []
   },
   "outputs": [],
   "source": [
    "cellstream = [\n",
    "    UGrid.cell_type_enum.TRIANGLE, 3, 0, 4, 5,\n",
    "    UGrid.cell_type_enum.TRIANGLE, 3, 5, 4, 3,\n",
    "    UGrid.cell_type_enum.TRIANGLE, 3, 5, 2, 1,\n",
    "    UGrid.cell_type_enum.TRIANGLE, 3, 2, 5, 3,\n",
    "    UGrid.cell_type_enum.TRIANGLE, 3, 5, 1, 0\n",
    "]"
   ]
  },
  {
   "cell_type": "markdown",
   "id": "292e2f33-9e05-4554-baa3-ca559f04bc76",
   "metadata": {},
   "source": [
    "The code above creates a list of cells.  Each five values in the list together represent a cell.\n",
    "\n",
    "The first cell in the list is `UGrid.cell_type_enum.TRIANGLE, 3, 0, 4, 5`.\n",
    "\n",
    "The first value that describes the cell is `UGrid.cell_type_enum.TRIANGLE`, which is the type of the cell.  The cell type determines how the points in a cell relate to each other and what shape the cell will take.\n",
    "\n",
    "The next value, `3`, indicates how many points there are in the cell.  Because we put `3`, there should be three values that follow this value.\n",
    "\n",
    "The next three values `0, 4, 5` are each indicies that tell the indexes in `locations` that hold the points that make up the cell.  The following code illustrates this.\n"
   ]
  },
  {
   "cell_type": "code",
   "execution_count": 5,
   "id": "36c30c89-663b-45f9-8023-3abd62f90f2a",
   "metadata": {
    "tags": []
   },
   "outputs": [
    {
     "name": "stdout",
     "output_type": "stream",
     "text": [
      "(5.0, 74.0, 0.0) (2.86, 62.19, 0.0) (12.53, 66.17, 0.0)\n"
     ]
    }
   ],
   "source": [
    "index_point_1 = cellstream[2]\n",
    "index_point_2 = cellstream[3]\n",
    "index_point_3 = cellstream[4]\n",
    "print(locations[index_point_1], locations[index_point_2], locations[index_point_3])"
   ]
  },
  {
   "cell_type": "markdown",
   "id": "30c21542-2422-43dd-8240-e425f405aa61",
   "metadata": {},
   "source": [
    "Now that we have created the locations and cells that will make up our UGrid, we can make a Ugrid by passing\n",
    "the locations and cellstream lists to the UGrid constructor:"
   ]
  },
  {
   "cell_type": "code",
   "execution_count": 6,
   "id": "a0071320-8559-4b45-958a-252206af28ec",
   "metadata": {
    "tags": []
   },
   "outputs": [],
   "source": [
    "out_ugrid = UGrid(locations, cellstream)"
   ]
  },
  {
   "cell_type": "markdown",
   "id": "419bc53d-ca0e-48d1-b191-35f208e6da6e",
   "metadata": {},
   "source": [
    "There are many operations that can be performed on a UGrid.  Lets write out our UGrid to a file so we can import it into GMS and see what it looks like.\n",
    "\n",
    "# Writing a UGrid out to a File"
   ]
  },
  {
   "cell_type": "code",
   "execution_count": 7,
   "id": "ec7a4aed-30c9-4175-96c0-5114ab8358eb",
   "metadata": {
    "tags": []
   },
   "outputs": [],
   "source": [
    "out_file_name = \"output_files/test.xmugrid\"\n",
    "ugrid_utils.write_ugrid_to_ascii_file(out_ugrid, out_file_name)"
   ]
  },
  {
   "cell_type": "markdown",
   "id": "a3cc0e20-16cf-4d5b-adfb-7045dda52f71",
   "metadata": {},
   "source": [
    "When we take the .xmugrid file that we just created and import it into GMS we get this:"
   ]
  },
  {
   "cell_type": "markdown",
   "id": "0733e318-bfe6-41e7-946f-9da44c030b9c",
   "metadata": {
    "tags": []
   },
   "source": [
    "![The ugrid generated by our code imported into GMS](images/ugrid.png)"
   ]
  },
  {
   "cell_type": "markdown",
   "id": "d5e6ec22-bb04-4827-a335-5fc61d655c40",
   "metadata": {},
   "source": [
    "# Reading a UGrid in from a File\n",
    "\n",
    "Just as we wrote out the UGrid to a file, we can read in a UGrid from a file."
   ]
  },
  {
   "cell_type": "code",
   "execution_count": 8,
   "id": "7efa8ada-cd07-4dcb-9c29-495ad3a1fc26",
   "metadata": {
    "tags": []
   },
   "outputs": [
    {
     "name": "stdout",
     "output_type": "stream",
     "text": [
      "out_ugrid: <UGrid - Number of Locations: 6, Number of Cells: 5, Extents: ((2.86, 55.51, 0.0), (23.63, 74.0, 0.0)), Modified: True>\n",
      "in_ugrid: <UGrid - Number of Locations: 6, Number of Cells: 5, Extents: ((2.86, 55.51, 0.0), (23.63, 74.0, 0.0)), Modified: True>\n"
     ]
    }
   ],
   "source": [
    "in_ugrid = ugrid_utils.read_ugrid_from_ascii_file(out_file_name)\n",
    "print(f'out_ugrid: {out_ugrid}')\n",
    "print(f'in_ugrid: {in_ugrid}')"
   ]
  },
  {
   "cell_type": "markdown",
   "id": "b2d7a63c-b74d-4977-8f5c-58bb13341ff4",
   "metadata": {},
   "source": [
    "# Important Note on UGrid.locations\n",
    "The UGrid `in_ugrid` that we read in has the same data as the UGrid `out_ugrid` that we created.\n",
    "We can get at that data, but there is an important note on getting UGrid.locations.  Each time that\n",
    "you call the UGrid.locations property, a new array is created and returned with a copy of the locations data."
   ]
  },
  {
   "cell_type": "code",
   "execution_count": 9,
   "id": "651764ad-51f0-434a-980a-a750cf16f383",
   "metadata": {
    "tags": []
   },
   "outputs": [
    {
     "data": {
      "text/plain": [
       "array([[ 5.  , 74.  ,  0.  ],\n",
       "       [22.  , 74.  ,  0.  ],\n",
       "       [23.63, 60.57,  0.  ],\n",
       "       [11.35, 55.51,  0.  ],\n",
       "       [ 2.86, 62.19,  0.  ],\n",
       "       [12.53, 66.17,  0.  ]])"
      ]
     },
     "execution_count": 9,
     "metadata": {},
     "output_type": "execute_result"
    }
   ],
   "source": [
    "in_ugrid.locations"
   ]
  },
  {
   "cell_type": "markdown",
   "id": "0bbf71fb-d32a-48bd-b51d-0e678e0c1864",
   "metadata": {},
   "source": [
    "When there are a lot of cells in the UGrid this can be expensive.  If we call to it multiple times watch how much time it takes."
   ]
  },
  {
   "cell_type": "code",
   "execution_count": 10,
   "id": "50e84ac9-7e97-4fe1-bff4-d3001f1859d0",
   "metadata": {
    "tags": []
   },
   "outputs": [],
   "source": [
    "def get_time():\n",
    "    return time.perf_counter_ns()\n",
    "\n",
    "_iterations = 100000"
   ]
  },
  {
   "cell_type": "code",
   "execution_count": 11,
   "id": "d35090c3-d74b-4d24-900a-9c99e0c10251",
   "metadata": {
    "tags": []
   },
   "outputs": [],
   "source": [
    "# Calling UGrid.locations each time\n",
    "time_start = get_time()\n",
    "\n",
    "for i in range(_iterations):\n",
    "    _locations = in_ugrid.locations\n",
    "    for cell in _locations:\n",
    "        cell\n",
    "\n",
    "time_end = get_time()\n",
    "\n",
    "time_calling_each_time = time_end - time_start"
   ]
  },
  {
   "cell_type": "code",
   "execution_count": 12,
   "id": "d10cf979-3e2b-4cda-a999-cb06adb4c427",
   "metadata": {
    "tags": []
   },
   "outputs": [],
   "source": [
    "# Calling UGrid.locations once\n",
    "time_start = get_time()\n",
    "\n",
    "_locations = in_ugrid.locations\n",
    "\n",
    "for i in range(_iterations):\n",
    "    for cell in _locations:\n",
    "        cell\n",
    "\n",
    "time_end = get_time()\n",
    "\n",
    "time_calling_once = time_end - time_start"
   ]
  },
  {
   "cell_type": "code",
   "execution_count": 13,
   "id": "b91f906e-09c5-48d6-a605-34ba0e5eed95",
   "metadata": {
    "tags": []
   },
   "outputs": [
    {
     "name": "stdout",
     "output_type": "stream",
     "text": [
      "Calling UGrid.locations each time: 243230700\n",
      "Calling UGrid.locations once: 117866100\n",
      "Difference (calling_each_time - calling_once): 125364600\n",
      "Calling UGrid.locations each time took 2.063618801334735 times longer in this scenario\n"
     ]
    }
   ],
   "source": [
    "print(f'Calling UGrid.locations each time: {time_calling_each_time}')\n",
    "print(f'Calling UGrid.locations once: {time_calling_once}')\n",
    "print(f'Difference (calling_each_time - calling_once): {time_calling_each_time - time_calling_once}')\n",
    "print(f'Calling UGrid.locations each time took {time_calling_each_time / time_calling_once} times longer in this scenario')"
   ]
  },
  {
   "cell_type": "markdown",
   "id": "fb3caf5f-d50c-4dd5-a44d-76fb275898d9",
   "metadata": {},
   "source": [
    "It is important to not make more calls to UGrid.locations than necessary as this can be a slow process."
   ]
  },
  {
   "cell_type": "markdown",
   "id": "5ebbc2e4-ebe4-45c8-b43a-61c857549084",
   "metadata": {},
   "source": [
    "# UGrid Operations\n",
    "\n",
    "Lets take a look at some of the operations available to UGrids.  First we'll look at operations related to locations/points.\n",
    "\n",
    "#### UGrid.point_count\n",
    "We can get the number of points with the property UGrid.point_count:"
   ]
  },
  {
   "cell_type": "code",
   "execution_count": 14,
   "id": "c93cbbeb-678a-443d-b995-ed407796c0bf",
   "metadata": {
    "tags": []
   },
   "outputs": [
    {
     "data": {
      "text/plain": [
       "6"
      ]
     },
     "execution_count": 14,
     "metadata": {},
     "output_type": "execute_result"
    }
   ],
   "source": [
    "in_ugrid.point_count"
   ]
  },
  {
   "cell_type": "markdown",
   "id": "cd8ba280-f4a1-4595-9152-9a57089d3db2",
   "metadata": {},
   "source": [
    "#### UGrid.get_point_location(index)\n",
    "We can get the actual x,y,z coordinates of a point (the point location) with the `UGrid.get_point_location(index)` method. It takes an index and returns a Tuple."
   ]
  },
  {
   "cell_type": "code",
   "execution_count": 15,
   "id": "3877089d-4da5-4302-bb69-b4eec6811695",
   "metadata": {
    "tags": []
   },
   "outputs": [
    {
     "data": {
      "text/plain": [
       "(5.0, 74.0, 0.0)"
      ]
     },
     "execution_count": 15,
     "metadata": {},
     "output_type": "execute_result"
    }
   ],
   "source": [
    "in_ugrid.get_point_location(0)"
   ]
  },
  {
   "cell_type": "markdown",
   "id": "ca85e771-5568-418c-8c2f-7c900a74022f",
   "metadata": {},
   "source": [
    "The index is 0 based and goes up to `UGrid.point_count - 1`. If you pass it an index outside that range it returns a Tuple filled with zeros:"
   ]
  },
  {
   "cell_type": "code",
   "execution_count": 16,
   "id": "90a71035-6b01-4982-9334-db3fb641b036",
   "metadata": {
    "tags": []
   },
   "outputs": [
    {
     "name": "stdout",
     "output_type": "stream",
     "text": [
      "(0.0, 0.0, 0.0)\n"
     ]
    },
    {
     "data": {
      "text/plain": [
       "(0.0, 0.0, 0.0)"
      ]
     },
     "execution_count": 16,
     "metadata": {},
     "output_type": "execute_result"
    }
   ],
   "source": [
    "print(in_ugrid.get_point_location(-1))\n",
    "in_ugrid.get_point_location(6)"
   ]
  },
  {
   "cell_type": "markdown",
   "id": "f2171b18-e92d-4ec3-b2ec-a2adac952159",
   "metadata": {},
   "source": [
    "#### UGrid.set_point_location(index, location)\n",
    "We can set the location of a point with the `UGrid.set_point_location(index, location)` method. It takes an index, a Tuple, and returns a Boolean indicating whether the method was successful or not."
   ]
  },
  {
   "cell_type": "code",
   "execution_count": 17,
   "id": "d95f7dd3-d47b-4e6a-b8c6-dab953b476d9",
   "metadata": {
    "tags": []
   },
   "outputs": [
    {
     "data": {
      "text/plain": [
       "True"
      ]
     },
     "execution_count": 17,
     "metadata": {},
     "output_type": "execute_result"
    }
   ],
   "source": [
    "result = in_ugrid.set_point_location(0,(8.0,74.0,0.0))\n",
    "result"
   ]
  },
  {
   "cell_type": "code",
   "execution_count": 18,
   "id": "1c689276-b860-4b85-98d5-0bfa1834f391",
   "metadata": {
    "tags": []
   },
   "outputs": [
    {
     "data": {
      "text/plain": [
       "False"
      ]
     },
     "execution_count": 18,
     "metadata": {},
     "output_type": "execute_result"
    }
   ],
   "source": [
    "result = in_ugrid.set_point_location(-1,(0,0,0))\n",
    "result"
   ]
  },
  {
   "cell_type": "markdown",
   "id": "b63a4b14-ef24-4952-9f74-a8081afcf504",
   "metadata": {},
   "source": [
    "#### Other Methods\n",
    "Here are two methods that are similar to the previous two methods:"
   ]
  },
  {
   "cell_type": "code",
   "execution_count": 19,
   "id": "3ca2443d-3b7d-42f7-89c8-c5439843dce0",
   "metadata": {
    "tags": []
   },
   "outputs": [
    {
     "name": "stdout",
     "output_type": "stream",
     "text": [
      "get_point_xy0(0): (8.0, 74.0, 0.0)\n",
      "get_points_locations((0,1)): [[ 8. 74.  0.]\n",
      " [22. 74.  0.]]\n"
     ]
    }
   ],
   "source": [
    "_r1 = in_ugrid.get_point_xy0(0)              # The same as get_point_location(), except the z coordinate is set to 0 in the returned Tuple\n",
    "_r2 = in_ugrid.get_points_locations((0,1))   # The same as get_point_location(), except it can be passed multiple indices and returns a list of results\n",
    "\n",
    "print(f'get_point_xy0(0): {_r1}')\n",
    "print(f'get_points_locations((0,1)): {_r2}')"
   ]
  },
  {
   "cell_type": "markdown",
   "id": "446637de-781f-41b3-9f1f-1e90776c4ef5",
   "metadata": {},
   "source": [
    "## Cell Methods and Properties\n",
    "Here are some methods and properties releated to cells:<br>\n",
    "\n",
    "#### UGrid.cell_count\n",
    "We can get the number of cells in the UGrid with UGrid.cell_count:"
   ]
  },
  {
   "cell_type": "code",
   "execution_count": 20,
   "id": "0701141d-d28a-4e55-a612-9462144fcdc6",
   "metadata": {
    "tags": []
   },
   "outputs": [
    {
     "data": {
      "text/plain": [
       "5"
      ]
     },
     "execution_count": 20,
     "metadata": {},
     "output_type": "execute_result"
    }
   ],
   "source": [
    "in_ugrid.cell_count"
   ]
  },
  {
   "cell_type": "markdown",
   "id": "7db75665-7689-4609-9ee7-8774ac4db89d",
   "metadata": {},
   "source": [
    "#### UGrid.get_cell_points(index)\n",
    "Gets the indices for the locations in UGrid.locations that make up the cell at the given index"
   ]
  },
  {
   "cell_type": "code",
   "execution_count": 21,
   "id": "3a8e51b3-3ed2-42cf-bdb8-08682edaa849",
   "metadata": {
    "tags": []
   },
   "outputs": [
    {
     "data": {
      "text/plain": [
       "(0, 4, 5)"
      ]
     },
     "execution_count": 21,
     "metadata": {},
     "output_type": "execute_result"
    }
   ],
   "source": [
    "in_ugrid.get_cell_points(0)   # Gets the points of a cell (including polyhedron)"
   ]
  },
  {
   "cell_type": "markdown",
   "id": "f4a64f03-23be-4bf0-a4f9-361efe83827b",
   "metadata": {},
   "source": [
    "#### UGrid.get_cell_locations(index)\n",
    "Gets the actual x,y,z coordinates of the points that make up the cell at the given index"
   ]
  },
  {
   "cell_type": "code",
   "execution_count": 22,
   "id": "53b58d98-d610-4710-b507-90058ab6ac1b",
   "metadata": {
    "tags": []
   },
   "outputs": [
    {
     "data": {
      "text/plain": [
       "array([[ 8.  , 74.  ,  0.  ],\n",
       "       [ 2.86, 62.19,  0.  ],\n",
       "       [12.53, 66.17,  0.  ]])"
      ]
     },
     "execution_count": 22,
     "metadata": {},
     "output_type": "execute_result"
    }
   ],
   "source": [
    "in_ugrid.get_cell_locations(0)"
   ]
  },
  {
   "cell_type": "markdown",
   "id": "7e131750-7d7f-4a98-9ce0-a77fd1d43b7d",
   "metadata": {
    "tags": []
   },
   "source": [
    "#### UGrid.get_cell_dimension(index) \n",
    "Gets the number of dimensions of the cell at the given index"
   ]
  },
  {
   "cell_type": "code",
   "execution_count": 23,
   "id": "f8f59951-146a-47c6-b126-c81d4eb7f3bd",
   "metadata": {
    "tags": []
   },
   "outputs": [
    {
     "data": {
      "text/plain": [
       "2"
      ]
     },
     "execution_count": 23,
     "metadata": {},
     "output_type": "execute_result"
    }
   ],
   "source": [
    "in_ugrid.get_cell_dimension(0)"
   ]
  },
  {
   "cell_type": "markdown",
   "id": "8b4fe18b-caf7-4ccc-9115-8eee6440d649",
   "metadata": {
    "tags": []
   },
   "source": [
    "## Cell Edges\n",
    "You can simply iterate over the edges of a cell with the following code:"
   ]
  },
  {
   "cell_type": "code",
   "execution_count": 24,
   "id": "82c78faf-ae97-4800-a50f-a52f42fd688a",
   "metadata": {
    "tags": []
   },
   "outputs": [
    {
     "name": "stdout",
     "output_type": "stream",
     "text": [
      "(0, 4)\n",
      "(4, 5)\n",
      "(5, 0)\n"
     ]
    }
   ],
   "source": [
    "edges = in_ugrid.get_cell_edges(0)\n",
    "\n",
    "for edge in edges:\n",
    "    print(edge)"
   ]
  },
  {
   "cell_type": "markdown",
   "id": "f0489056-1ab5-4ec5-9be3-d8e6ae13f13f",
   "metadata": {},
   "source": [
    "Each edge tuple holds the indices of the locations in UGrid.locations that make up the edge. <br>\n",
    "There are useful methods that can tell you information about neighboring cells, such as `UGrid.get_edge_adjacent_cells(edge)`"
   ]
  },
  {
   "cell_type": "code",
   "execution_count": 25,
   "id": "5796a51f-9411-4b73-a8ab-b0fd9b7e808a",
   "metadata": {
    "tags": []
   },
   "outputs": [
    {
     "name": "stdout",
     "output_type": "stream",
     "text": [
      "(0,)\n",
      "(0, 1)\n"
     ]
    }
   ],
   "source": [
    "_r1 = in_ugrid.get_edge_adjacent_cells((0, 4))\n",
    "_r2 = in_ugrid.get_edge_adjacent_cells((4, 5))\n",
    "print(_r1)\n",
    "print(_r2)"
   ]
  },
  {
   "cell_type": "markdown",
   "id": "3cb12a2a-6671-4268-8b9f-ebb64f2aa2a7",
   "metadata": {},
   "source": [
    "This will return a tuple of indexes of the cells that are adjacent to the given cells. <br>\n",
    "There are a lot more UGrid methods that we don't have the time to cover right now, just know there are many useful methods."
   ]
  }
 ],
 "metadata": {
  "kernelspec": {
   "display_name": "Python 3 (ipykernel)",
   "language": "python",
   "name": "python3"
  },
  "language_info": {
   "codemirror_mode": {
    "name": "ipython",
    "version": 3
   },
   "file_extension": ".py",
   "mimetype": "text/x-python",
   "name": "python",
   "nbconvert_exporter": "python",
   "pygments_lexer": "ipython3",
   "version": "3.10.2"
  }
 },
 "nbformat": 4,
 "nbformat_minor": 5
}
